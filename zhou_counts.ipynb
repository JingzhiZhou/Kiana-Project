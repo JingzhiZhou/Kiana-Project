{
  "nbformat": 4,
  "nbformat_minor": 0,
  "metadata": {
    "colab": {
      "name": "zhou_counts.ipynb",
      "provenance": [],
      "collapsed_sections": [],
      "include_colab_link": true
    },
    "kernelspec": {
      "name": "python3",
      "display_name": "Python 3"
    }
  },
  "cells": [
    {
      "cell_type": "markdown",
      "metadata": {
        "id": "view-in-github",
        "colab_type": "text"
      },
      "source": [
        "<a href=\"https://colab.research.google.com/github/JingzhiZhou/Kiana-Project/blob/main/zhou_counts.ipynb\" target=\"_parent\"><img src=\"https://colab.research.google.com/assets/colab-badge.svg\" alt=\"Open In Colab\"/></a>"
      ]
    },
    {
      "cell_type": "code",
      "metadata": {
        "colab": {
          "base_uri": "https://localhost:8080/"
        },
        "id": "W-48IzbUsrUU",
        "outputId": "3ab1df75-4083-43db-dfb6-90341658de98"
      },
      "source": [
        "from google.colab import drive\n",
        "drive.mount('/content/gdrive', force_remount=True)"
      ],
      "execution_count": null,
      "outputs": [
        {
          "output_type": "stream",
          "text": [
            "Mounted at /content/gdrive\n"
          ],
          "name": "stdout"
        }
      ]
    },
    {
      "cell_type": "code",
      "metadata": {
        "id": "7ShHcaH8szqv"
      },
      "source": [
        "import pandas as pd\n",
        "import numpy as np\n",
        "import matplotlib.pyplot as plt"
      ],
      "execution_count": null,
      "outputs": []
    },
    {
      "cell_type": "code",
      "metadata": {
        "colab": {
          "base_uri": "https://localhost:8080/",
          "height": 415
        },
        "id": "mhADY8xRQKu7",
        "outputId": "69d222f8-1101-491a-bacd-aae1a9ad232f"
      },
      "source": [
        "df = pd.read_csv(\"/content/gdrive/MyDrive/3 x Zones Group Assignment/csv_remove device data/tps1_2_block89.csv\")\n",
        "df"
      ],
      "execution_count": null,
      "outputs": [
        {
          "output_type": "execute_result",
          "data": {
            "text/html": [
              "<div>\n",
              "<style scoped>\n",
              "    .dataframe tbody tr th:only-of-type {\n",
              "        vertical-align: middle;\n",
              "    }\n",
              "\n",
              "    .dataframe tbody tr th {\n",
              "        vertical-align: top;\n",
              "    }\n",
              "\n",
              "    .dataframe thead th {\n",
              "        text-align: right;\n",
              "    }\n",
              "</style>\n",
              "<table border=\"1\" class=\"dataframe\">\n",
              "  <thead>\n",
              "    <tr style=\"text-align: right;\">\n",
              "      <th></th>\n",
              "      <th>Building</th>\n",
              "      <th>Level</th>\n",
              "      <th>MAC</th>\n",
              "      <th>LAT</th>\n",
              "      <th>LNG</th>\n",
              "      <th>Time</th>\n",
              "      <th>Date</th>\n",
              "      <th>block</th>\n",
              "    </tr>\n",
              "  </thead>\n",
              "  <tbody>\n",
              "    <tr>\n",
              "      <th>0</th>\n",
              "      <td>TPS1</td>\n",
              "      <td>Level 2</td>\n",
              "      <td>48:49:c7:12:a4:00</td>\n",
              "      <td>-22.811847</td>\n",
              "      <td>-43.250148</td>\n",
              "      <td>00:00:30.477</td>\n",
              "      <td>2019-08-12</td>\n",
              "      <td>block3</td>\n",
              "    </tr>\n",
              "    <tr>\n",
              "      <th>1</th>\n",
              "      <td>TPS1</td>\n",
              "      <td>Level 2</td>\n",
              "      <td>c0:8c:71:2c:79:f9</td>\n",
              "      <td>-22.811774</td>\n",
              "      <td>-43.250828</td>\n",
              "      <td>00:00:31.272</td>\n",
              "      <td>2019-08-12</td>\n",
              "      <td>block3</td>\n",
              "    </tr>\n",
              "    <tr>\n",
              "      <th>2</th>\n",
              "      <td>TPS1</td>\n",
              "      <td>Level 2</td>\n",
              "      <td>60:1d:91:04:cf:56</td>\n",
              "      <td>-22.811858</td>\n",
              "      <td>-43.249975</td>\n",
              "      <td>00:00:32.489</td>\n",
              "      <td>2019-08-12</td>\n",
              "      <td>block3</td>\n",
              "    </tr>\n",
              "    <tr>\n",
              "      <th>3</th>\n",
              "      <td>TPS1</td>\n",
              "      <td>Level 2</td>\n",
              "      <td>48:49:c7:12:a4:00</td>\n",
              "      <td>-22.811849</td>\n",
              "      <td>-43.250092</td>\n",
              "      <td>00:00:40.493</td>\n",
              "      <td>2019-08-12</td>\n",
              "      <td>block3</td>\n",
              "    </tr>\n",
              "    <tr>\n",
              "      <th>4</th>\n",
              "      <td>TPS1</td>\n",
              "      <td>Level 2</td>\n",
              "      <td>c0:8c:71:2c:79:f9</td>\n",
              "      <td>-22.811753</td>\n",
              "      <td>-43.250714</td>\n",
              "      <td>00:00:41.285</td>\n",
              "      <td>2019-08-12</td>\n",
              "      <td>block3</td>\n",
              "    </tr>\n",
              "    <tr>\n",
              "      <th>...</th>\n",
              "      <td>...</td>\n",
              "      <td>...</td>\n",
              "      <td>...</td>\n",
              "      <td>...</td>\n",
              "      <td>...</td>\n",
              "      <td>...</td>\n",
              "      <td>...</td>\n",
              "      <td>...</td>\n",
              "    </tr>\n",
              "    <tr>\n",
              "      <th>1362866</th>\n",
              "      <td>TPS1</td>\n",
              "      <td>Level 2</td>\n",
              "      <td>dc:35:f1:be:1c:a3</td>\n",
              "      <td>-22.812054</td>\n",
              "      <td>-43.250710</td>\n",
              "      <td>23:59:56.141</td>\n",
              "      <td>2019-09-08</td>\n",
              "      <td>block3</td>\n",
              "    </tr>\n",
              "    <tr>\n",
              "      <th>1362867</th>\n",
              "      <td>TPS1</td>\n",
              "      <td>Level 2</td>\n",
              "      <td>e0:37:bf:da:68:b0</td>\n",
              "      <td>-22.812081</td>\n",
              "      <td>-43.250579</td>\n",
              "      <td>23:59:56.333</td>\n",
              "      <td>2019-09-08</td>\n",
              "      <td>block3</td>\n",
              "    </tr>\n",
              "    <tr>\n",
              "      <th>1362868</th>\n",
              "      <td>TPS1</td>\n",
              "      <td>Level 2</td>\n",
              "      <td>e0:37:bf:da:68:b0</td>\n",
              "      <td>-22.812081</td>\n",
              "      <td>-43.250579</td>\n",
              "      <td>23:59:56.334</td>\n",
              "      <td>2019-09-08</td>\n",
              "      <td>block3</td>\n",
              "    </tr>\n",
              "    <tr>\n",
              "      <th>1362869</th>\n",
              "      <td>TPS1</td>\n",
              "      <td>Level 2</td>\n",
              "      <td>38:9a:f6:55:65:93</td>\n",
              "      <td>-22.812055</td>\n",
              "      <td>-43.250710</td>\n",
              "      <td>23:59:56.339</td>\n",
              "      <td>2019-09-08</td>\n",
              "      <td>block3</td>\n",
              "    </tr>\n",
              "    <tr>\n",
              "      <th>1362870</th>\n",
              "      <td>TPS1</td>\n",
              "      <td>Level 2</td>\n",
              "      <td>38:9a:f6:55:65:93</td>\n",
              "      <td>-22.812055</td>\n",
              "      <td>-43.250710</td>\n",
              "      <td>23:59:56.34</td>\n",
              "      <td>2019-09-08</td>\n",
              "      <td>block3</td>\n",
              "    </tr>\n",
              "  </tbody>\n",
              "</table>\n",
              "<p>1362871 rows × 8 columns</p>\n",
              "</div>"
            ],
            "text/plain": [
              "        Building    Level                MAC  ...          Time        Date   block\n",
              "0           TPS1  Level 2  48:49:c7:12:a4:00  ...  00:00:30.477  2019-08-12  block3\n",
              "1           TPS1  Level 2  c0:8c:71:2c:79:f9  ...  00:00:31.272  2019-08-12  block3\n",
              "2           TPS1  Level 2  60:1d:91:04:cf:56  ...  00:00:32.489  2019-08-12  block3\n",
              "3           TPS1  Level 2  48:49:c7:12:a4:00  ...  00:00:40.493  2019-08-12  block3\n",
              "4           TPS1  Level 2  c0:8c:71:2c:79:f9  ...  00:00:41.285  2019-08-12  block3\n",
              "...          ...      ...                ...  ...           ...         ...     ...\n",
              "1362866     TPS1  Level 2  dc:35:f1:be:1c:a3  ...  23:59:56.141  2019-09-08  block3\n",
              "1362867     TPS1  Level 2  e0:37:bf:da:68:b0  ...  23:59:56.333  2019-09-08  block3\n",
              "1362868     TPS1  Level 2  e0:37:bf:da:68:b0  ...  23:59:56.334  2019-09-08  block3\n",
              "1362869     TPS1  Level 2  38:9a:f6:55:65:93  ...  23:59:56.339  2019-09-08  block3\n",
              "1362870     TPS1  Level 2  38:9a:f6:55:65:93  ...   23:59:56.34  2019-09-08  block3\n",
              "\n",
              "[1362871 rows x 8 columns]"
            ]
          },
          "metadata": {
            "tags": []
          },
          "execution_count": 28
        }
      ]
    },
    {
      "cell_type": "code",
      "metadata": {
        "colab": {
          "base_uri": "https://localhost:8080/",
          "height": 415
        },
        "id": "VMR45KzsQK0W",
        "outputId": "09393b6a-5075-4f30-c9e7-8ba4ea3e5cf4"
      },
      "source": [
        "df['hour'] = df.Time.astype(str).str[:2]\n",
        "df['hour'] = df['hour'].map({'00': \"1\", '01': \"2\",'02': \"3\",'03': \"4\",'04': \"5\",'05': \"6\", '06': \"7\", '07': \"8\",'08': \"9\",'09': \"10\",'10': \"11\",'11': \"12\",'12': \"13\", \n",
        "                             '13': \"14\",'14': \"15\",'15': \"16\",'16': \"17\",'17': \"18\",'18': \"19\",'19': \"20\",'20': \"21\",'21': \"22\",'22': \"23\",\"23\": \"24\"})\n",
        "df['weekday'] =  df.Date.astype(str).str[-2:]\n",
        "df['weekday'] =  df['weekday'].replace(['12','13','14','15','16','19','20','21','22','23','26','27','28','29','30','02','03','04','05','06'],'1')\n",
        "df['weekday'] =  df['weekday'].replace(['17','18','24','25','31','01','07','08'],'0')\n",
        "df"
      ],
      "execution_count": null,
      "outputs": [
        {
          "output_type": "execute_result",
          "data": {
            "text/html": [
              "<div>\n",
              "<style scoped>\n",
              "    .dataframe tbody tr th:only-of-type {\n",
              "        vertical-align: middle;\n",
              "    }\n",
              "\n",
              "    .dataframe tbody tr th {\n",
              "        vertical-align: top;\n",
              "    }\n",
              "\n",
              "    .dataframe thead th {\n",
              "        text-align: right;\n",
              "    }\n",
              "</style>\n",
              "<table border=\"1\" class=\"dataframe\">\n",
              "  <thead>\n",
              "    <tr style=\"text-align: right;\">\n",
              "      <th></th>\n",
              "      <th>Building</th>\n",
              "      <th>Level</th>\n",
              "      <th>MAC</th>\n",
              "      <th>LAT</th>\n",
              "      <th>LNG</th>\n",
              "      <th>Time</th>\n",
              "      <th>Date</th>\n",
              "      <th>block</th>\n",
              "      <th>hour</th>\n",
              "      <th>weekday</th>\n",
              "    </tr>\n",
              "  </thead>\n",
              "  <tbody>\n",
              "    <tr>\n",
              "      <th>0</th>\n",
              "      <td>TPS1</td>\n",
              "      <td>Level 2</td>\n",
              "      <td>48:49:c7:12:a4:00</td>\n",
              "      <td>-22.811847</td>\n",
              "      <td>-43.250148</td>\n",
              "      <td>00:00:30.477</td>\n",
              "      <td>2019-08-12</td>\n",
              "      <td>block3</td>\n",
              "      <td>1</td>\n",
              "      <td>1</td>\n",
              "    </tr>\n",
              "    <tr>\n",
              "      <th>1</th>\n",
              "      <td>TPS1</td>\n",
              "      <td>Level 2</td>\n",
              "      <td>c0:8c:71:2c:79:f9</td>\n",
              "      <td>-22.811774</td>\n",
              "      <td>-43.250828</td>\n",
              "      <td>00:00:31.272</td>\n",
              "      <td>2019-08-12</td>\n",
              "      <td>block3</td>\n",
              "      <td>1</td>\n",
              "      <td>1</td>\n",
              "    </tr>\n",
              "    <tr>\n",
              "      <th>2</th>\n",
              "      <td>TPS1</td>\n",
              "      <td>Level 2</td>\n",
              "      <td>60:1d:91:04:cf:56</td>\n",
              "      <td>-22.811858</td>\n",
              "      <td>-43.249975</td>\n",
              "      <td>00:00:32.489</td>\n",
              "      <td>2019-08-12</td>\n",
              "      <td>block3</td>\n",
              "      <td>1</td>\n",
              "      <td>1</td>\n",
              "    </tr>\n",
              "    <tr>\n",
              "      <th>3</th>\n",
              "      <td>TPS1</td>\n",
              "      <td>Level 2</td>\n",
              "      <td>48:49:c7:12:a4:00</td>\n",
              "      <td>-22.811849</td>\n",
              "      <td>-43.250092</td>\n",
              "      <td>00:00:40.493</td>\n",
              "      <td>2019-08-12</td>\n",
              "      <td>block3</td>\n",
              "      <td>1</td>\n",
              "      <td>1</td>\n",
              "    </tr>\n",
              "    <tr>\n",
              "      <th>4</th>\n",
              "      <td>TPS1</td>\n",
              "      <td>Level 2</td>\n",
              "      <td>c0:8c:71:2c:79:f9</td>\n",
              "      <td>-22.811753</td>\n",
              "      <td>-43.250714</td>\n",
              "      <td>00:00:41.285</td>\n",
              "      <td>2019-08-12</td>\n",
              "      <td>block3</td>\n",
              "      <td>1</td>\n",
              "      <td>1</td>\n",
              "    </tr>\n",
              "    <tr>\n",
              "      <th>...</th>\n",
              "      <td>...</td>\n",
              "      <td>...</td>\n",
              "      <td>...</td>\n",
              "      <td>...</td>\n",
              "      <td>...</td>\n",
              "      <td>...</td>\n",
              "      <td>...</td>\n",
              "      <td>...</td>\n",
              "      <td>...</td>\n",
              "      <td>...</td>\n",
              "    </tr>\n",
              "    <tr>\n",
              "      <th>1362866</th>\n",
              "      <td>TPS1</td>\n",
              "      <td>Level 2</td>\n",
              "      <td>dc:35:f1:be:1c:a3</td>\n",
              "      <td>-22.812054</td>\n",
              "      <td>-43.250710</td>\n",
              "      <td>23:59:56.141</td>\n",
              "      <td>2019-09-08</td>\n",
              "      <td>block3</td>\n",
              "      <td>24</td>\n",
              "      <td>0</td>\n",
              "    </tr>\n",
              "    <tr>\n",
              "      <th>1362867</th>\n",
              "      <td>TPS1</td>\n",
              "      <td>Level 2</td>\n",
              "      <td>e0:37:bf:da:68:b0</td>\n",
              "      <td>-22.812081</td>\n",
              "      <td>-43.250579</td>\n",
              "      <td>23:59:56.333</td>\n",
              "      <td>2019-09-08</td>\n",
              "      <td>block3</td>\n",
              "      <td>24</td>\n",
              "      <td>0</td>\n",
              "    </tr>\n",
              "    <tr>\n",
              "      <th>1362868</th>\n",
              "      <td>TPS1</td>\n",
              "      <td>Level 2</td>\n",
              "      <td>e0:37:bf:da:68:b0</td>\n",
              "      <td>-22.812081</td>\n",
              "      <td>-43.250579</td>\n",
              "      <td>23:59:56.334</td>\n",
              "      <td>2019-09-08</td>\n",
              "      <td>block3</td>\n",
              "      <td>24</td>\n",
              "      <td>0</td>\n",
              "    </tr>\n",
              "    <tr>\n",
              "      <th>1362869</th>\n",
              "      <td>TPS1</td>\n",
              "      <td>Level 2</td>\n",
              "      <td>38:9a:f6:55:65:93</td>\n",
              "      <td>-22.812055</td>\n",
              "      <td>-43.250710</td>\n",
              "      <td>23:59:56.339</td>\n",
              "      <td>2019-09-08</td>\n",
              "      <td>block3</td>\n",
              "      <td>24</td>\n",
              "      <td>0</td>\n",
              "    </tr>\n",
              "    <tr>\n",
              "      <th>1362870</th>\n",
              "      <td>TPS1</td>\n",
              "      <td>Level 2</td>\n",
              "      <td>38:9a:f6:55:65:93</td>\n",
              "      <td>-22.812055</td>\n",
              "      <td>-43.250710</td>\n",
              "      <td>23:59:56.34</td>\n",
              "      <td>2019-09-08</td>\n",
              "      <td>block3</td>\n",
              "      <td>24</td>\n",
              "      <td>0</td>\n",
              "    </tr>\n",
              "  </tbody>\n",
              "</table>\n",
              "<p>1362871 rows × 10 columns</p>\n",
              "</div>"
            ],
            "text/plain": [
              "        Building    Level                MAC  ...   block  hour weekday\n",
              "0           TPS1  Level 2  48:49:c7:12:a4:00  ...  block3     1       1\n",
              "1           TPS1  Level 2  c0:8c:71:2c:79:f9  ...  block3     1       1\n",
              "2           TPS1  Level 2  60:1d:91:04:cf:56  ...  block3     1       1\n",
              "3           TPS1  Level 2  48:49:c7:12:a4:00  ...  block3     1       1\n",
              "4           TPS1  Level 2  c0:8c:71:2c:79:f9  ...  block3     1       1\n",
              "...          ...      ...                ...  ...     ...   ...     ...\n",
              "1362866     TPS1  Level 2  dc:35:f1:be:1c:a3  ...  block3    24       0\n",
              "1362867     TPS1  Level 2  e0:37:bf:da:68:b0  ...  block3    24       0\n",
              "1362868     TPS1  Level 2  e0:37:bf:da:68:b0  ...  block3    24       0\n",
              "1362869     TPS1  Level 2  38:9a:f6:55:65:93  ...  block3    24       0\n",
              "1362870     TPS1  Level 2  38:9a:f6:55:65:93  ...  block3    24       0\n",
              "\n",
              "[1362871 rows x 10 columns]"
            ]
          },
          "metadata": {
            "tags": []
          },
          "execution_count": 29
        }
      ]
    },
    {
      "cell_type": "code",
      "metadata": {
        "colab": {
          "base_uri": "https://localhost:8080/"
        },
        "id": "4PQWydDpQK3C",
        "outputId": "9e711f59-3f4c-4a17-a8db-9ef6f56f3f88"
      },
      "source": [
        "df.hour.unique()"
      ],
      "execution_count": null,
      "outputs": [
        {
          "output_type": "execute_result",
          "data": {
            "text/plain": [
              "array(['1', '2', '3', '4', '5', '6', '7', '8', '9', '10', '11', '12',\n",
              "       '13', '14', '15', '16', '17', '18', '22', '23', '24', '19', '20',\n",
              "       '21'], dtype=object)"
            ]
          },
          "metadata": {
            "tags": []
          },
          "execution_count": 19
        }
      ]
    },
    {
      "cell_type": "code",
      "metadata": {
        "colab": {
          "base_uri": "https://localhost:8080/"
        },
        "id": "GOkU0KFkQK5p",
        "outputId": "67eba606-a451-4176-d1b9-26ea3d81de98"
      },
      "source": [
        "df.weekday.unique()"
      ],
      "execution_count": null,
      "outputs": [
        {
          "output_type": "execute_result",
          "data": {
            "text/plain": [
              "array(['1', '0'], dtype=object)"
            ]
          },
          "metadata": {
            "tags": []
          },
          "execution_count": 30
        }
      ]
    },
    {
      "cell_type": "code",
      "metadata": {
        "id": "QXMIwCe6QK9B"
      },
      "source": [
        ""
      ],
      "execution_count": null,
      "outputs": []
    },
    {
      "cell_type": "code",
      "metadata": {
        "id": "Kp1nHaVeZ74t"
      },
      "source": [
        ""
      ],
      "execution_count": null,
      "outputs": []
    },
    {
      "cell_type": "code",
      "metadata": {
        "id": "zRi_Es2hZ77Z"
      },
      "source": [
        ""
      ],
      "execution_count": null,
      "outputs": []
    },
    {
      "cell_type": "code",
      "metadata": {
        "id": "8HjiStZUZ794"
      },
      "source": [
        ""
      ],
      "execution_count": null,
      "outputs": []
    },
    {
      "cell_type": "code",
      "metadata": {
        "id": "xUilhixSZ8Ai"
      },
      "source": [
        ""
      ],
      "execution_count": null,
      "outputs": []
    },
    {
      "cell_type": "code",
      "metadata": {
        "id": "OCqVuC9xZ8EK"
      },
      "source": [
        ""
      ],
      "execution_count": null,
      "outputs": []
    }
  ]
}