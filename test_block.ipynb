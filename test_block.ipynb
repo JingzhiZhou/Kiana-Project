{
  "nbformat": 4,
  "nbformat_minor": 0,
  "metadata": {
    "kernelspec": {
      "display_name": "Python 3",
      "language": "python",
      "name": "python3"
    },
    "language_info": {
      "codemirror_mode": {
        "name": "ipython",
        "version": 3
      },
      "file_extension": ".py",
      "mimetype": "text/x-python",
      "name": "python",
      "nbconvert_exporter": "python",
      "pygments_lexer": "ipython3",
      "version": "3.8.3"
    },
    "colab": {
      "name": "test_block.ipynb",
      "provenance": [],
      "include_colab_link": true
    }
  },
  "cells": [
    {
      "cell_type": "markdown",
      "metadata": {
        "id": "view-in-github",
        "colab_type": "text"
      },
      "source": [
        "<a href=\"https://colab.research.google.com/github/JingzhiZhou/Kiana-Project/blob/main/test_block.ipynb\" target=\"_parent\"><img src=\"https://colab.research.google.com/assets/colab-badge.svg\" alt=\"Open In Colab\"/></a>"
      ]
    },
    {
      "cell_type": "code",
      "metadata": {
        "colab": {
          "base_uri": "https://localhost:8080/"
        },
        "id": "0UXApyiQbI_S",
        "outputId": "e8a4d08e-d953-44cb-b4c6-ff4e47bee9ac"
      },
      "source": [
        "from google.colab import drive\n",
        "drive.mount('/content/gdrive', force_remount=True)"
      ],
      "execution_count": null,
      "outputs": [
        {
          "output_type": "stream",
          "text": [
            "Mounted at /content/gdrive\n"
          ],
          "name": "stdout"
        }
      ]
    },
    {
      "cell_type": "code",
      "metadata": {
        "id": "Fy6Bf50fbA6e"
      },
      "source": [
        "import pandas as pd\n",
        "import numpy as np"
      ],
      "execution_count": null,
      "outputs": []
    },
    {
      "cell_type": "code",
      "metadata": {
        "id": "uH0QNh_qbA6o"
      },
      "source": [
        "aug = pd.read_csv(\"/content/gdrive/MyDrive/3 x Zones Group Assignment/Present1_data/rio_aug.csv\")"
      ],
      "execution_count": null,
      "outputs": []
    },
    {
      "cell_type": "code",
      "metadata": {
        "id": "vBLnOOmggfES"
      },
      "source": [
        "aug"
      ],
      "execution_count": null,
      "outputs": []
    },
    {
      "cell_type": "code",
      "metadata": {
        "colab": {
          "base_uri": "https://localhost:8080/",
          "height": 204
        },
        "id": "ggTGTwRObA6p",
        "outputId": "3d4f2299-0c34-4a54-d141-2c5abef5c920"
      },
      "source": [
        "aug.head()"
      ],
      "execution_count": null,
      "outputs": [
        {
          "output_type": "execute_result",
          "data": {
            "text/html": [
              "<div>\n",
              "<style scoped>\n",
              "    .dataframe tbody tr th:only-of-type {\n",
              "        vertical-align: middle;\n",
              "    }\n",
              "\n",
              "    .dataframe tbody tr th {\n",
              "        vertical-align: top;\n",
              "    }\n",
              "\n",
              "    .dataframe thead th {\n",
              "        text-align: right;\n",
              "    }\n",
              "</style>\n",
              "<table border=\"1\" class=\"dataframe\">\n",
              "  <thead>\n",
              "    <tr style=\"text-align: right;\">\n",
              "      <th></th>\n",
              "      <th>Building</th>\n",
              "      <th>Level</th>\n",
              "      <th>MAC</th>\n",
              "      <th>LAT</th>\n",
              "      <th>LNG</th>\n",
              "      <th>Time</th>\n",
              "      <th>Date</th>\n",
              "    </tr>\n",
              "  </thead>\n",
              "  <tbody>\n",
              "    <tr>\n",
              "      <th>0</th>\n",
              "      <td>TPS1</td>\n",
              "      <td>Level 2</td>\n",
              "      <td>a4:ee:57:bf:c5:86</td>\n",
              "      <td>-22.811781</td>\n",
              "      <td>-43.249902</td>\n",
              "      <td>02:52:33.289</td>\n",
              "      <td>2019-08-01</td>\n",
              "    </tr>\n",
              "    <tr>\n",
              "      <th>1</th>\n",
              "      <td>TPS1</td>\n",
              "      <td>Level 2</td>\n",
              "      <td>3c:a8:2a:78:83:94</td>\n",
              "      <td>-22.811983</td>\n",
              "      <td>-43.250474</td>\n",
              "      <td>02:52:35.488</td>\n",
              "      <td>2019-08-01</td>\n",
              "    </tr>\n",
              "    <tr>\n",
              "      <th>2</th>\n",
              "      <td>TPS1</td>\n",
              "      <td>Level 2</td>\n",
              "      <td>f8:62:14:32:35:38</td>\n",
              "      <td>-22.812017</td>\n",
              "      <td>-43.251573</td>\n",
              "      <td>02:52:36.268</td>\n",
              "      <td>2019-08-01</td>\n",
              "    </tr>\n",
              "    <tr>\n",
              "      <th>3</th>\n",
              "      <td>TPS1</td>\n",
              "      <td>Level 2</td>\n",
              "      <td>28:80:23:32:16:16</td>\n",
              "      <td>-22.812122</td>\n",
              "      <td>-43.249719</td>\n",
              "      <td>02:52:41.537</td>\n",
              "      <td>2019-08-01</td>\n",
              "    </tr>\n",
              "    <tr>\n",
              "      <th>4</th>\n",
              "      <td>TPS1</td>\n",
              "      <td>Level 2</td>\n",
              "      <td>28:80:23:32:16:12</td>\n",
              "      <td>-22.812126</td>\n",
              "      <td>-43.249737</td>\n",
              "      <td>02:52:41.538</td>\n",
              "      <td>2019-08-01</td>\n",
              "    </tr>\n",
              "  </tbody>\n",
              "</table>\n",
              "</div>"
            ],
            "text/plain": [
              "  Building    Level                MAC  ...        LNG          Time        Date\n",
              "0     TPS1  Level 2  a4:ee:57:bf:c5:86  ... -43.249902  02:52:33.289  2019-08-01\n",
              "1     TPS1  Level 2  3c:a8:2a:78:83:94  ... -43.250474  02:52:35.488  2019-08-01\n",
              "2     TPS1  Level 2  f8:62:14:32:35:38  ... -43.251573  02:52:36.268  2019-08-01\n",
              "3     TPS1  Level 2  28:80:23:32:16:16  ... -43.249719  02:52:41.537  2019-08-01\n",
              "4     TPS1  Level 2  28:80:23:32:16:12  ... -43.249737  02:52:41.538  2019-08-01\n",
              "\n",
              "[5 rows x 7 columns]"
            ]
          },
          "metadata": {
            "tags": []
          },
          "execution_count": 7
        }
      ]
    },
    {
      "cell_type": "code",
      "metadata": {
        "id": "LWAZpbYkbA6q"
      },
      "source": [
        "COL_NUM = 3 \n",
        "ROW_NUM = 3 \n",
        "\n",
        "def split_block(r,c,df):\n",
        "    \n",
        "    df['LAT'] = -df['LAT']\n",
        "    df['LNG'] = -df['LNG']\n",
        "    \n",
        "    LATI = df.iloc[:,3].max() - df.iloc[:,3].min()\n",
        "    LONG = df.iloc[:,4].max() - df.iloc[:,4].min()\n",
        "    \n",
        "    LAT_BIN = [22.811135]  \n",
        "    LON_BIN = [43.249159]  \n",
        "    \n",
        "    names = [\"block1\"]\n",
        "    \n",
        "    for i in range(1,c): #latitude bin\n",
        "        LAT_BIN.append(df.iloc[:,3].min()+i*(LATI/COL_NUM)) \n",
        "        names.append(\"block\"+str(i+1))\n",
        "        \n",
        "    for i in range(1,r): #longtitude bin\n",
        "        LON_BIN.append(df.iloc[:,4].min()+i*(LONG/ROW_NUM)) \n",
        "        \n",
        "    LAT_BIN.append(df.iloc[:,3].max())\n",
        "    LON_BIN.append(df.iloc[:,4].max())\n",
        "    LAT_BIN.sort()\n",
        "    LON_BIN.sort()\n",
        "\n",
        "    df['temp_block'] = pd.cut(df['LAT'],LAT_BIN , labels=names)\n",
        "    \n",
        "    count = 0\n",
        "    df_list = []\n",
        "    for i in range(r):\n",
        "        names = []\n",
        "        df_list.append('df'+str(i))\n",
        "        for n in range(r):\n",
        "            count += 1\n",
        "            names.append(\"block\"+str(count))\n",
        "        df_list[i] = aug.loc[aug['temp_block']==\"block\"+str(i+1)]\n",
        "        df_list[i]['block'] = pd.cut(aug.loc[aug['temp_block'] == \"block\"+str(i+1)]['LNG'],LON_BIN, labels=names)\n",
        "    df = pd.concat(df_list).drop(columns=['temp_block'])\n",
        "    df['LAT'] = -df['LAT']\n",
        "    df['LNG'] = -df['LNG']\n",
        "    return df"
      ],
      "execution_count": null,
      "outputs": []
    },
    {
      "cell_type": "code",
      "metadata": {
        "colab": {
          "base_uri": "https://localhost:8080/"
        },
        "id": "YI_1yd44bA6s",
        "outputId": "47d3dd04-8b6b-4fa0-a3ba-a0e7436aa301"
      },
      "source": [
        "aug = split_block(3,3,aug)  # can change 3 to desired number"
      ],
      "execution_count": null,
      "outputs": [
        {
          "output_type": "stream",
          "text": [
            "/usr/local/lib/python3.7/dist-packages/ipykernel_launcher.py:40: SettingWithCopyWarning: \n",
            "A value is trying to be set on a copy of a slice from a DataFrame.\n",
            "Try using .loc[row_indexer,col_indexer] = value instead\n",
            "\n",
            "See the caveats in the documentation: https://pandas.pydata.org/pandas-docs/stable/user_guide/indexing.html#returning-a-view-versus-a-copy\n"
          ],
          "name": "stderr"
        }
      ]
    },
    {
      "cell_type": "code",
      "metadata": {
        "colab": {
          "base_uri": "https://localhost:8080/",
          "height": 202
        },
        "id": "ib0SKK3qbA6s",
        "outputId": "e5e0aa0b-c4de-4c67-cfc2-b80ea50a0b52"
      },
      "source": [
        "aug.head()"
      ],
      "execution_count": null,
      "outputs": [
        {
          "output_type": "execute_result",
          "data": {
            "text/html": [
              "<div>\n",
              "<style scoped>\n",
              "    .dataframe tbody tr th:only-of-type {\n",
              "        vertical-align: middle;\n",
              "    }\n",
              "\n",
              "    .dataframe tbody tr th {\n",
              "        vertical-align: top;\n",
              "    }\n",
              "\n",
              "    .dataframe thead th {\n",
              "        text-align: right;\n",
              "    }\n",
              "</style>\n",
              "<table border=\"1\" class=\"dataframe\">\n",
              "  <thead>\n",
              "    <tr style=\"text-align: right;\">\n",
              "      <th></th>\n",
              "      <th>Building</th>\n",
              "      <th>Level</th>\n",
              "      <th>MAC</th>\n",
              "      <th>LAT</th>\n",
              "      <th>LNG</th>\n",
              "      <th>Time</th>\n",
              "      <th>Date</th>\n",
              "      <th>block</th>\n",
              "    </tr>\n",
              "  </thead>\n",
              "  <tbody>\n",
              "    <tr>\n",
              "      <th>49</th>\n",
              "      <td>TPS1</td>\n",
              "      <td>Level 2</td>\n",
              "      <td>da:a1:19:1d:ae:7e</td>\n",
              "      <td>-22.811573</td>\n",
              "      <td>-43.249386</td>\n",
              "      <td>02:57:09.296</td>\n",
              "      <td>2019-08-01</td>\n",
              "      <td>block1</td>\n",
              "    </tr>\n",
              "    <tr>\n",
              "      <th>306</th>\n",
              "      <td>TPS1</td>\n",
              "      <td>Level 2</td>\n",
              "      <td>3a:3a:fa:e6:81:98</td>\n",
              "      <td>-22.811496</td>\n",
              "      <td>-43.249465</td>\n",
              "      <td>03:20:40.103</td>\n",
              "      <td>2019-08-01</td>\n",
              "      <td>block1</td>\n",
              "    </tr>\n",
              "    <tr>\n",
              "      <th>307</th>\n",
              "      <td>TPS1</td>\n",
              "      <td>Level 2</td>\n",
              "      <td>3a:3a:fa:e6:81:98</td>\n",
              "      <td>-22.811496</td>\n",
              "      <td>-43.249465</td>\n",
              "      <td>03:20:40.103</td>\n",
              "      <td>2019-08-01</td>\n",
              "      <td>block1</td>\n",
              "    </tr>\n",
              "    <tr>\n",
              "      <th>310</th>\n",
              "      <td>TPS1</td>\n",
              "      <td>Level 2</td>\n",
              "      <td>38:9a:f6:32:67:cd</td>\n",
              "      <td>-22.811573</td>\n",
              "      <td>-43.249385</td>\n",
              "      <td>03:20:40.391</td>\n",
              "      <td>2019-08-01</td>\n",
              "      <td>block1</td>\n",
              "    </tr>\n",
              "    <tr>\n",
              "      <th>311</th>\n",
              "      <td>TPS1</td>\n",
              "      <td>Level 2</td>\n",
              "      <td>38:9a:f6:32:67:cd</td>\n",
              "      <td>-22.811573</td>\n",
              "      <td>-43.249385</td>\n",
              "      <td>03:20:40.391</td>\n",
              "      <td>2019-08-01</td>\n",
              "      <td>block1</td>\n",
              "    </tr>\n",
              "  </tbody>\n",
              "</table>\n",
              "</div>"
            ],
            "text/plain": [
              "    Building    Level                MAC  ...          Time        Date   block\n",
              "49      TPS1  Level 2  da:a1:19:1d:ae:7e  ...  02:57:09.296  2019-08-01  block1\n",
              "306     TPS1  Level 2  3a:3a:fa:e6:81:98  ...  03:20:40.103  2019-08-01  block1\n",
              "307     TPS1  Level 2  3a:3a:fa:e6:81:98  ...  03:20:40.103  2019-08-01  block1\n",
              "310     TPS1  Level 2  38:9a:f6:32:67:cd  ...  03:20:40.391  2019-08-01  block1\n",
              "311     TPS1  Level 2  38:9a:f6:32:67:cd  ...  03:20:40.391  2019-08-01  block1\n",
              "\n",
              "[5 rows x 8 columns]"
            ]
          },
          "metadata": {
            "tags": []
          },
          "execution_count": 26
        }
      ]
    },
    {
      "cell_type": "code",
      "metadata": {
        "colab": {
          "base_uri": "https://localhost:8080/"
        },
        "id": "d0PkiPAebA6t",
        "outputId": "4ba77d18-a45a-4a2b-bae9-2bf8346a10f6"
      },
      "source": [
        "aug['block'].value_counts()"
      ],
      "execution_count": null,
      "outputs": [
        {
          "output_type": "execute_result",
          "data": {
            "text/plain": [
              "block5    1994713\n",
              "block6    1058149\n",
              "block4     615800\n",
              "block8     383361\n",
              "block1     344017\n",
              "block2     212292\n",
              "block9     181290\n",
              "block7      17625\n",
              "block3         15\n",
              "Name: block, dtype: int64"
            ]
          },
          "metadata": {
            "tags": []
          },
          "execution_count": 27
        }
      ]
    },
    {
      "cell_type": "code",
      "metadata": {
        "colab": {
          "base_uri": "https://localhost:8080/",
          "height": 415
        },
        "id": "RsG8Pc8AbA6t",
        "outputId": "5e992414-8b65-4b1b-e2c1-79457deff501"
      },
      "source": [
        "block1 = aug.loc[aug['block'] == \"block1\"]\n",
        "block1"
      ],
      "execution_count": null,
      "outputs": [
        {
          "output_type": "execute_result",
          "data": {
            "text/html": [
              "<div>\n",
              "<style scoped>\n",
              "    .dataframe tbody tr th:only-of-type {\n",
              "        vertical-align: middle;\n",
              "    }\n",
              "\n",
              "    .dataframe tbody tr th {\n",
              "        vertical-align: top;\n",
              "    }\n",
              "\n",
              "    .dataframe thead th {\n",
              "        text-align: right;\n",
              "    }\n",
              "</style>\n",
              "<table border=\"1\" class=\"dataframe\">\n",
              "  <thead>\n",
              "    <tr style=\"text-align: right;\">\n",
              "      <th></th>\n",
              "      <th>Building</th>\n",
              "      <th>Level</th>\n",
              "      <th>MAC</th>\n",
              "      <th>LAT</th>\n",
              "      <th>LNG</th>\n",
              "      <th>Time</th>\n",
              "      <th>Date</th>\n",
              "      <th>block</th>\n",
              "    </tr>\n",
              "  </thead>\n",
              "  <tbody>\n",
              "    <tr>\n",
              "      <th>49</th>\n",
              "      <td>TPS1</td>\n",
              "      <td>Level 2</td>\n",
              "      <td>da:a1:19:1d:ae:7e</td>\n",
              "      <td>-22.811573</td>\n",
              "      <td>-43.249386</td>\n",
              "      <td>02:57:09.296</td>\n",
              "      <td>2019-08-01</td>\n",
              "      <td>block1</td>\n",
              "    </tr>\n",
              "    <tr>\n",
              "      <th>306</th>\n",
              "      <td>TPS1</td>\n",
              "      <td>Level 2</td>\n",
              "      <td>3a:3a:fa:e6:81:98</td>\n",
              "      <td>-22.811496</td>\n",
              "      <td>-43.249465</td>\n",
              "      <td>03:20:40.103</td>\n",
              "      <td>2019-08-01</td>\n",
              "      <td>block1</td>\n",
              "    </tr>\n",
              "    <tr>\n",
              "      <th>307</th>\n",
              "      <td>TPS1</td>\n",
              "      <td>Level 2</td>\n",
              "      <td>3a:3a:fa:e6:81:98</td>\n",
              "      <td>-22.811496</td>\n",
              "      <td>-43.249465</td>\n",
              "      <td>03:20:40.103</td>\n",
              "      <td>2019-08-01</td>\n",
              "      <td>block1</td>\n",
              "    </tr>\n",
              "    <tr>\n",
              "      <th>310</th>\n",
              "      <td>TPS1</td>\n",
              "      <td>Level 2</td>\n",
              "      <td>38:9a:f6:32:67:cd</td>\n",
              "      <td>-22.811573</td>\n",
              "      <td>-43.249385</td>\n",
              "      <td>03:20:40.391</td>\n",
              "      <td>2019-08-01</td>\n",
              "      <td>block1</td>\n",
              "    </tr>\n",
              "    <tr>\n",
              "      <th>311</th>\n",
              "      <td>TPS1</td>\n",
              "      <td>Level 2</td>\n",
              "      <td>38:9a:f6:32:67:cd</td>\n",
              "      <td>-22.811573</td>\n",
              "      <td>-43.249385</td>\n",
              "      <td>03:20:40.391</td>\n",
              "      <td>2019-08-01</td>\n",
              "      <td>block1</td>\n",
              "    </tr>\n",
              "    <tr>\n",
              "      <th>...</th>\n",
              "      <td>...</td>\n",
              "      <td>...</td>\n",
              "      <td>...</td>\n",
              "      <td>...</td>\n",
              "      <td>...</td>\n",
              "      <td>...</td>\n",
              "      <td>...</td>\n",
              "      <td>...</td>\n",
              "    </tr>\n",
              "    <tr>\n",
              "      <th>4807201</th>\n",
              "      <td>TPS1</td>\n",
              "      <td>Level 2</td>\n",
              "      <td>a4:ee:57:bf:c5:86</td>\n",
              "      <td>-22.811513</td>\n",
              "      <td>-43.250058</td>\n",
              "      <td>23:58:31.074</td>\n",
              "      <td>2019-08-31</td>\n",
              "      <td>block1</td>\n",
              "    </tr>\n",
              "    <tr>\n",
              "      <th>4807213</th>\n",
              "      <td>TPS1</td>\n",
              "      <td>Level 2</td>\n",
              "      <td>a4:ee:57:bf:c5:86</td>\n",
              "      <td>-22.811400</td>\n",
              "      <td>-43.250019</td>\n",
              "      <td>23:58:40.24</td>\n",
              "      <td>2019-08-31</td>\n",
              "      <td>block1</td>\n",
              "    </tr>\n",
              "    <tr>\n",
              "      <th>4807219</th>\n",
              "      <td>TPS1</td>\n",
              "      <td>Level 2</td>\n",
              "      <td>60:1d:91:d8:d2:80</td>\n",
              "      <td>-22.811404</td>\n",
              "      <td>-43.250023</td>\n",
              "      <td>23:58:46.305</td>\n",
              "      <td>2019-08-31</td>\n",
              "      <td>block1</td>\n",
              "    </tr>\n",
              "    <tr>\n",
              "      <th>4807243</th>\n",
              "      <td>TPS1</td>\n",
              "      <td>Level 2</td>\n",
              "      <td>48:49:c7:52:9d:70</td>\n",
              "      <td>-22.811410</td>\n",
              "      <td>-43.250036</td>\n",
              "      <td>23:59:06.138</td>\n",
              "      <td>2019-08-31</td>\n",
              "      <td>block1</td>\n",
              "    </tr>\n",
              "    <tr>\n",
              "      <th>4807260</th>\n",
              "      <td>TPS1</td>\n",
              "      <td>Level 2</td>\n",
              "      <td>48:49:c7:52:9d:70</td>\n",
              "      <td>-22.811409</td>\n",
              "      <td>-43.250014</td>\n",
              "      <td>23:59:16.145</td>\n",
              "      <td>2019-08-31</td>\n",
              "      <td>block1</td>\n",
              "    </tr>\n",
              "  </tbody>\n",
              "</table>\n",
              "<p>344017 rows × 8 columns</p>\n",
              "</div>"
            ],
            "text/plain": [
              "        Building    Level                MAC  ...          Time        Date   block\n",
              "49          TPS1  Level 2  da:a1:19:1d:ae:7e  ...  02:57:09.296  2019-08-01  block1\n",
              "306         TPS1  Level 2  3a:3a:fa:e6:81:98  ...  03:20:40.103  2019-08-01  block1\n",
              "307         TPS1  Level 2  3a:3a:fa:e6:81:98  ...  03:20:40.103  2019-08-01  block1\n",
              "310         TPS1  Level 2  38:9a:f6:32:67:cd  ...  03:20:40.391  2019-08-01  block1\n",
              "311         TPS1  Level 2  38:9a:f6:32:67:cd  ...  03:20:40.391  2019-08-01  block1\n",
              "...          ...      ...                ...  ...           ...         ...     ...\n",
              "4807201     TPS1  Level 2  a4:ee:57:bf:c5:86  ...  23:58:31.074  2019-08-31  block1\n",
              "4807213     TPS1  Level 2  a4:ee:57:bf:c5:86  ...   23:58:40.24  2019-08-31  block1\n",
              "4807219     TPS1  Level 2  60:1d:91:d8:d2:80  ...  23:58:46.305  2019-08-31  block1\n",
              "4807243     TPS1  Level 2  48:49:c7:52:9d:70  ...  23:59:06.138  2019-08-31  block1\n",
              "4807260     TPS1  Level 2  48:49:c7:52:9d:70  ...  23:59:16.145  2019-08-31  block1\n",
              "\n",
              "[344017 rows x 8 columns]"
            ]
          },
          "metadata": {
            "tags": []
          },
          "execution_count": 28
        }
      ]
    },
    {
      "cell_type": "code",
      "metadata": {
        "colab": {
          "base_uri": "https://localhost:8080/"
        },
        "id": "Fa0oHWMfbA6u",
        "outputId": "4793a7d3-6204-4acb-b9bb-4c0d1d86da05"
      },
      "source": [
        "block1.min()['LAT']"
      ],
      "execution_count": null,
      "outputs": [
        {
          "output_type": "execute_result",
          "data": {
            "text/plain": [
              "-22.811573600449552"
            ]
          },
          "metadata": {
            "tags": []
          },
          "execution_count": 32
        }
      ]
    }
  ]
}